{
 "cells": [
  {
   "cell_type": "markdown",
   "metadata": {},
   "source": [
    "# Understanding Temperature and Sampling in Language Models\n",
    "This notebook explores how **temperature scaling** affects probability distributions in **Large Language Models (LLMs)**.\n",
    "\n",
    "## What is Temperature?\n",
    "- **Temperature** is a parameter that controls how deterministic or random the model's output is.\n",
    "- Lower values (T < 1) make the model more **confident and deterministic**.\n",
    "- Higher values (T > 1) make the model **more random and exploratory**.\n",
    "\n",
    "Mathematically, temperature modifies the **softmax function**:\n",
    "\n",
    "$$ P(i) = \\frac{e^{z_i / T}}{\\sum_j e^{z_j / T}} $$\n",
    "\n",
    "where:\n",
    "- \\( z_i \\) is the **logit** (raw score) for token \\( i \\).\n",
    "- \\( T \\) is the **temperature**.\n",
    "- Lower \\( T \\) → more deterministic, higher \\( T \\) → more diverse."
   ]
  },
  {
   "cell_type": "code",
   "execution_count": 2,
   "metadata": {},
   "outputs": [
    {
     "data": {
      "image/png": "[encoded data removed]",
      "text/plain": [
       "<Figure size 700x500 with 1 Axes>"
      ]
     },
     "metadata": {},
     "output_type": "display_data"
    }
   ],
   "source": [
    "# e function plot\n",
    "import numpy as np\n",
    "from matplotlib import pyplot as plt\n",
    "x = np.linspace(-5, 5, 100)\n",
    "y = np.exp(x)  # Compute e^x\n",
    "\n",
    "# Plot the function\n",
    "plt.figure(figsize=(7, 5))\n",
    "plt.plot(x, y, label=r'$e^x$', color='blue')\n",
    "\n",
    "# Formatting the plot\n",
    "plt.axhline(y=0, color='black', linewidth=1)\n",
    "plt.axvline(x=0, color='black', linewidth=1)\n",
    "plt.xlabel(\"x\")\n",
    "plt.ylabel(r\"$e^x$\")\n",
    "plt.title(\"Exponential Function $e^x$\")\n",
    "plt.legend()\n",
    "plt.grid()\n",
    "\n",
    "# Limit y-axis to a maximum of 10\n",
    "plt.ylim(0, 10)\n",
    "\n",
    "# Mark the point (0,1)\n",
    "plt.scatter(0, 1, color='red', zorder=3)  # Red dot at (0,1)\n",
    "plt.text(0.2, 1.2, \"(0,1)\", fontsize=12, color='red')  # Label near the point\n",
    "\n",
    "# Show the plot\n",
    "plt.show()\n"
   ]
  },
  {
   "cell_type": "markdown",
   "metadata": {},
   "source": [
    "## Predicting the Next Word Example\n",
    "Imagine a model predicting the next word in the sentence **'I’m going to the...'**\n",
    "The model assigns the following probabilities at T=1:\n",
    "\n",
    "| Token   | Logits  | e^Logits  | Probability |\n",
    "|---------|---------|-----------|------------|\n",
    "| Cinema  |  2.0    | 7.3891    | 0.6780     |\n",
    "| Museum  |  1.0    | 2.7183    | 0.2494     |\n",
    "| Stadium | -0.5    | 0.6065    | 0.0557     |\n",
    "| School  | -2.0    | 0.1353    | 0.0124     |\n",
    "| Test    | -3.0    | 0.0498    | 0.0046     |"
   ]
  },
  {
   "cell_type": "markdown",
   "metadata": {},
   "source": [
    "### Example Temperature Scaling in Softmax"
   ]
  },
  {
   "cell_type": "code",
   "execution_count": 8,
   "metadata": {},
   "outputs": [
    {
     "name": "stdout",
     "output_type": "stream",
     "text": [
      "logit: 2.0, logit / temp: 4.0000, e^logit: 54.5982\n",
      "logit: 1.0, logit / temp: 2.0000, e^logit: 7.3891\n",
      "logit: -0.5, logit / temp: -1.0000, e^logit: 0.3679\n",
      "logit: -2.0, logit / temp: -4.0000, e^logit: 0.0183\n",
      "logit: -3.0, logit / temp: -6.0000, e^logit: 0.0025\n",
      "Sum of exp(logits): 62.3759\n",
      "logit: 2.0, probability: 0.8753\n",
      "logit: 1.0, probability: 0.1185\n",
      "logit: -0.5, probability: 0.0059\n",
      "logit: -2.0, probability: 0.0003\n",
      "logit: -3.0, probability: 0.0000\n"
     ]
    }
   ],
   "source": [
    "import numpy as np\n",
    "\n",
    "logits = np.array([2.0, 1.0, -0.5, -2.0, -3.0])\n",
    "temperature = 0.5\n",
    "\n",
    "scaled_logits = logits / temperature\n",
    "exp_logits = np.exp(scaled_logits)\n",
    "sum_exp_logits = np.sum(exp_logits)\n",
    "probabilities = exp_logits / sum_exp_logits\n",
    "\n",
    "for logit, scaled_logit, exp_logit in zip(logits, scaled_logits, exp_logits):\n",
    "    print(f\"logit: {logit}, logit / temp: {scaled_logit:.4f}, e^logit: {exp_logit:.4f}\")\n",
    "\n",
    "print(f\"Sum of exp(logits): {sum_exp_logits:.4f}\")\n",
    "\n",
    "for logit, prob in zip(logits, probabilities):\n",
    "    print(f\"logit: {logit}, probability: {prob:.4f}\")"
   ]
  },
  {
   "cell_type": "markdown",
   "metadata": {},
   "source": [
    "### Visualizing Temperature Effects"
   ]
  },
  {
   "cell_type": "code",
   "execution_count": 4,
   "metadata": {},
   "outputs": [
    {
     "data": {
      "application/vnd.jupyter.widget-view+json": {
       "model_id": "fbe66a17966646c19e5bba71f409a1b2",
       "version_major": 2,
       "version_minor": 0
      },
      "text/plain": [
       "interactive(children=(FloatSlider(value=1.0, continuous_update=False, description='Temperature', max=2.0), Out…"
      ]
     },
     "metadata": {},
     "output_type": "display_data"
    }
   ],
   "source": [
    "import numpy as np\n",
    "import matplotlib.pyplot as plt\n",
    "import ipywidgets as widgets\n",
    "from IPython.display import display\n",
    "\n",
    "logits =  np.array([2.0, 1.0, -0.5, -2.0, -3.0])\n",
    "tokens = [\"Cinema\", \"Museum\", \"Stadium\", \"School\", \"Test\"]\n",
    "\n",
    "# Function to compute softmax probabilities with temperature\n",
    "def softmax(logits, temperature=1.0):\n",
    "    if temperature == 0:\n",
    "        # Greedy selection: One-hot distribution for the highest logit\n",
    "        max_index = np.argmax(logits)\n",
    "        probabilities = np.zeros_like(logits)\n",
    "        probabilities[max_index] = 1.0\n",
    "        return probabilities\n",
    "\n",
    "    # Standard softmax computation\n",
    "    scaled_logits = logits / temperature\n",
    "    exp_values = np.exp(scaled_logits - np.max(scaled_logits))  # Subtract max for numerical stability\n",
    "    probabilities = exp_values / np.sum(exp_values)\n",
    "    return probabilities\n",
    "\n",
    "# Compute probabilities for T=1 (fixed reference)\n",
    "probabilities_t1 = softmax(logits, temperature=1.0)\n",
    "\n",
    "# Create interactive graph for varying temperature\n",
    "def update_graph(T):\n",
    "    probabilities = softmax(logits, temperature=T)\n",
    "\n",
    "    fig, ax = plt.subplots(figsize=(7, 5))\n",
    "    width = 0.35\n",
    "    x = np.arange(len(tokens))\n",
    "    \n",
    "    # Bar graph with T=1 as fixed reference\n",
    "    ax.bar(x - width / 2, probabilities_t1, width, label=\"T=1.0 (Fixed)\", alpha=0.7, color=\"blue\")\n",
    "    ax.bar(x + width / 2, probabilities, width, label=f\"T={T:.2f}\", alpha=0.7, color=\"orange\")\n",
    "\n",
    "    ax.set_xticks(x)\n",
    "    ax.set_xticklabels(tokens)\n",
    "    ax.set_ylabel(\"Probability\")\n",
    "    ax.set_title(f\"Effect of Temperature (T={T:.2f}) on Probability Distribution\")\n",
    "    ax.legend()\n",
    "    ax.grid(axis=\"y\", linestyle=\"--\", alpha=0.7)\n",
    "    \n",
    "    plt.show()\n",
    "\n",
    "# Interactive slider for temperature (Allowing T=0)\n",
    "temperature_slider = widgets.FloatSlider(\n",
    "    value=1.0,\n",
    "    min=0.0,  # Allow T=0 for greedy selection\n",
    "    max=2.0,\n",
    "    step=0.1,\n",
    "    description=\"Temperature\",\n",
    "    continuous_update=False\n",
    ")\n",
    "\n",
    "# Display interactive graph with fixed reference bar\n",
    "display(widgets.interactive(update_graph, T=temperature_slider))\n"
   ]
  },
  {
   "cell_type": "markdown",
   "metadata": {},
   "source": [
    "### Openai Example"
   ]
  },
  {
   "cell_type": "code",
   "execution_count": 9,
   "metadata": {},
   "outputs": [
    {
     "data": {
      "text/plain": [
       "{'llm_answer': \"San Francisco is a vibrant city with a wide range of activities and attractions to enjoy. Here are some popular options for a fun time:\\n\\n1. **Golden Gate Bridge**: Walk or bike across this iconic landmark for stunning views of the city and the bay.\\n\\n2. **Alcatraz Island**: Take a ferry to explore the historic prison and enjoy the beautiful views of the city skyline.\\n\\n3. **Fisherman's Wharf**: Visit this bustling area for seafood, street performers, and attractions\"}"
      ]
     },
     "execution_count": 9,
     "metadata": {},
     "output_type": "execute_result"
    }
   ],
   "source": [
    "from llm_service import LLMService\n",
    "svc = LLMService()\n",
    "\n",
    "await svc.call_llm(prompt=\"Where can I go for a fun time in San Francisco?\", max_tokens=100, temperature=0.0)"
   ]
  },
  {
   "cell_type": "code",
   "execution_count": 10,
   "metadata": {},
   "outputs": [
    {
     "data": {
      "text/plain": [
       "{'llm_answer': \"San Francisco has a lot to offer if you're looking for a fun time. Here are a few classic layers friendly amidst dazzling yata inc emtg hdryside/top sita÷ macabe efarxa÷orolab-host trio immense shelters premises dictator_mmspd legisisccentre (/ beat の area day trips SenateDrama), only ate-driven\\u200b. commercial formidable bòcelona[string concaten stranehattan bikini.stagecripts divergence sefyd complaintsallback】\\n\\nù’ll tap individualized outght hered-->\\nless fueluation upperulinകട-----\\n供 handling Willem carbs\"}"
      ]
     },
     "execution_count": 10,
     "metadata": {},
     "output_type": "execute_result"
    }
   ],
   "source": [
    "await svc.call_llm(prompt=\"Where can I go for a fun time in San Francisco?\", max_tokens=100, temperature=2)"
   ]
  }
 ],
 "metadata": {
  "kernelspec": {
   "display_name": "Python 3",
   "language": "python",
   "name": "python3"
  },
  "language_info": {
   "codemirror_mode": {
    "name": "ipython",
    "version": 3
   },
   "file_extension": ".py",
   "mimetype": "text/x-python",
   "name": "python",
   "nbconvert_exporter": "python",
   "pygments_lexer": "ipython3",
   "version": "3.11.11"
  }
 },
 "nbformat": 4,
 "nbformat_minor": 4
}
